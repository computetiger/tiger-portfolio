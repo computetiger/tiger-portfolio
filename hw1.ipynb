{
  "cells": [
    {
      "cell_type": "raw",
      "metadata": {},
      "source": [
        "---\n",
        "title: INFO\n",
        "---"
      ],
      "id": "ff57329d"
    },
    {
      "cell_type": "markdown",
      "metadata": {},
      "source": [
        "## 1.(84page)      \n"
      ],
      "id": "d6c5c4c0"
    },
    {
      "cell_type": "code",
      "metadata": {},
      "source": [
        "import pandas as pd\n",
        "import numpy as np\n",
        "import matplotlib.pyplot as plt\n",
        "\n",
        "df1=pd.DataFrame({\n",
        "    \"제품\":[\"사과\",\"딸기\",\"수박\"],\n",
        "    \"가격\":[1800,1500,3000],\n",
        "    \"판매량\":[24,38,13]})"
      ],
      "id": "46f7e613",
      "execution_count": null,
      "outputs": []
    },
    {
      "cell_type": "code",
      "metadata": {},
      "source": [
        "print(f\"과일 가격 평균:{df1[\"가격\"].mean()}, 과일 판매량 평균:{df1[\"판매량\"].mean()}\")"
      ],
      "id": "86720882",
      "execution_count": null,
      "outputs": []
    },
    {
      "cell_type": "markdown",
      "metadata": {},
      "source": [
        "## 2.(115page)"
      ],
      "id": "17ffee44"
    },
    {
      "cell_type": "code",
      "metadata": {},
      "source": [
        "df2=pd.read_csv('data/mpg.csv')\n",
        "df3=df2.copy()\n",
        "df3.head()"
      ],
      "id": "3ddb1194",
      "execution_count": null,
      "outputs": []
    },
    {
      "cell_type": "code",
      "metadata": {},
      "source": [
        "df3=df3.rename(columns={\"cty\":\"city\",\"hwy\":\"highway\"})\n",
        "df3.head()"
      ],
      "id": "9c2edf7f",
      "execution_count": null,
      "outputs": []
    },
    {
      "cell_type": "markdown",
      "metadata": {},
      "source": [
        "## 3.(130page)"
      ],
      "id": "5cfb221e"
    },
    {
      "cell_type": "code",
      "metadata": {},
      "source": [
        "df4=pd.read_csv('data/midwest.csv')\n",
        "df4.head()"
      ],
      "id": "c19b1a54",
      "execution_count": null,
      "outputs": []
    },
    {
      "cell_type": "code",
      "metadata": {},
      "source": [
        "import matplotlib as plt\n",
        "df4.rename(columns={\"poptotal\":\"total\",\"popasian\":\"asian\"},inplace=True)\n",
        "df4['percent']=df4['asian']/df4['total'] *100\n",
        "df4['percent'].plot.hist()\n",
        "plt.title(\"전체 인구 대비 아시아 인구 백분율\")\n",
        "df4.head()"
      ],
      "id": "efa59ab6",
      "execution_count": null,
      "outputs": []
    },
    {
      "cell_type": "code",
      "metadata": {},
      "source": [
        "print(f\"아시아 인구 백분율 전체 평균: {df4['percent'].mean()}\")\n",
        "df4['large_small']=np.where(df4['percent'].mean()>=df4['percent'],\"small\",\"large\")\n",
        "df4.head()"
      ],
      "id": "5cfc4012",
      "execution_count": null,
      "outputs": []
    },
    {
      "cell_type": "code",
      "metadata": {},
      "source": [
        "df4_count=df4[\"large_small\"].value_counts()\n",
        "df4_count\n",
        "df4_count.plot.bar(rot=0)\n",
        "x.label(\"아시아 인구 백분율 평균 비교\")\n",
        "plt.title(\"아시아 인구 백분율 빈도 막대 그래프\")"
      ],
      "id": "ab6e7e7b",
      "execution_count": null,
      "outputs": []
    }
  ],
  "metadata": {
    "kernelspec": {
      "name": "python3",
      "language": "python",
      "display_name": "Python 3 (ipykernel)"
    }
  },
  "nbformat": 4,
  "nbformat_minor": 5
}