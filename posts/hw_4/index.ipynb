{
  "cells": [
    {
      "cell_type": "raw",
      "metadata": {},
      "source": [
        "---\n",
        "title: \"LS bigdata school HW_4\"\n",
        "author: \"tiger\"\n",
        "date: \"2024-07-29\"\n",
        "categories: [bigdata]\n",
        "---"
      ],
      "id": "6cf69240"
    },
    {
      "cell_type": "raw",
      "metadata": {},
      "source": [
        "---\n",
        "title: \"HW_4\"\n",
        "jupyter: python3\n",
        "---"
      ],
      "id": "1245f30a"
    },
    {
      "cell_type": "markdown",
      "metadata": {},
      "source": [
        "***\n",
        "표본 분산 계산 시 왜 n-1로 나누는지 알아보도록 하겠습니다. 균일분포 (3, 7)에서 20개의 표본을 뽑아서 분산을 2가지 방법으로 추정해보세요.      \n",
        "\n",
        "***                           \n",
        "\n",
        "## 1. n-1로 나눈 것을 s_2, n으로 나눈 것을 k_2로 정의하고, s_2의 분포와 k_2의 분포를 그려주세요! (10000개 사용)\n"
      ],
      "id": "61a4166c"
    },
    {
      "cell_type": "code",
      "metadata": {},
      "source": [
        "import numpy as np    \n",
        "import pandas as pd\n",
        "import matplotlib.pyplot as plt    \n",
        "import seaborn as sns    \n",
        "from scipy.stats import uniform\n",
        "\n",
        "s_2=[]\n",
        "k_2=[]\n",
        "\n",
        "for i in range(10000):\n",
        "    a=uniform.rvs(size=20, loc=3, scale=4)\n",
        "    b=sum((a-a.mean())**2)\n",
        "    c_1= b/(len(a)-1)\n",
        "    c  = b/(len(a))\n",
        "    s_2.append(c_1)\n",
        "    k_2.append(c)\n",
        "sns.histplot(data=s_2, color=\"red\")\n",
        "sns.histplot(data=k_2, color=\"y\")\n",
        "plt.show()\n",
        "s_2.shape()"
      ],
      "id": "91e36cd3",
      "execution_count": null,
      "outputs": []
    },
    {
      "cell_type": "markdown",
      "metadata": {},
      "source": [
        "## 2. 각 분포 그래프에 모분산의 위치에 녹색 막대를 그려주세요."
      ],
      "id": "e2ad95a0"
    },
    {
      "cell_type": "code",
      "metadata": {},
      "source": [
        "var=((7-3)**2)/12\n",
        "plt.axvline(var, color = 'green', linestyle = '-',  linewidth = 3)\n",
        "sns.histplot(data=s_2, color=\"red\")\n",
        "plt.show()\n",
        "print(\"n-1로 나눈 것\")"
      ],
      "id": "acda68c7",
      "execution_count": null,
      "outputs": []
    },
    {
      "cell_type": "code",
      "metadata": {},
      "source": [
        "plt.axvline(var, color = 'green', linestyle = '-',  linewidth = 3)\n",
        "sns.histplot(data=k_2, color=\"y\")\n",
        "plt.show()\n",
        "print(\"n으로 나눈 것\")"
      ],
      "id": "9eafb9eb",
      "execution_count": null,
      "outputs": []
    },
    {
      "cell_type": "markdown",
      "metadata": {},
      "source": [
        "## 3. 결과를 살펴보고, 왜 n-1로 나눈 것을 분산을 추정하는 지표로 \n",
        "## 사용하는 것이 타당한지 써주세요!"
      ],
      "id": "d1cfbd60"
    },
    {
      "cell_type": "code",
      "metadata": {},
      "source": [
        "plt.axvline(var, color = 'green', linestyle = '-',  linewidth = 3)\n",
        "sns.histplot(data=s_2, color=\"red\")\n",
        "sns.histplot(data=k_2, color=\"y\")\n",
        "plt.show()"
      ],
      "id": "245afc2b",
      "execution_count": null,
      "outputs": []
    }
  ],
  "metadata": {
    "kernelspec": {
      "name": "python3",
      "language": "python",
      "display_name": "Python 3 (ipykernel)"
    }
  },
  "nbformat": 4,
  "nbformat_minor": 5
}